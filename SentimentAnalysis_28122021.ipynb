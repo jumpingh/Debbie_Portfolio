{
 "cells": [
  {
   "cell_type": "markdown",
   "metadata": {},
   "source": [
    "### Extracting Stock Sentiment from News Headlines"
   ]
  },
  {
   "cell_type": "markdown",
   "metadata": {},
   "source": [
    "## 1. Project Introduction\n",
    "<p>In this project, I generated investing insight by applying sentiment analysis on financial news headlines from <a href=\"https://finviz.com\">FINVIZ.com</a>. Using natural language processing technique, I was able to understand the emotion behind the headlines and predict whether the market feels good or bad about a stock. It would then be possible to make educated guesses on how certain stocks would perform and trade accordingly.</p>\n",
    "\n",
    "<p> The reasons why I used FINVIZ was because FINVIZ contained a list of trusted websites and headlines from these sites tended to be more consistent in their jargon than those from independent bloggers. In addition, headlines, which have similar length, are easier to parse and group than full articles, which vary in length.\n",
    "    \n",
    "<p>As web scraping requires data science ethics (sending a lot of traffic to a FINVIZ's servers isn't very nice), the HTML files for Facebook and Tesla on 28/12/2021 have been downloaded.</p>"
   ]
  },
  {
   "cell_type": "code",
   "execution_count": 178,
   "metadata": {},
   "outputs": [],
   "source": [
    "# Import libraries\n",
    "from bs4 import BeautifulSoup\n",
    "import os\n",
    "html_tables = {} # Create an empty dictionary\n",
    "# For every table in the datasets folder\n",
    "for table_name in os.listdir('datasets'): # os.listdir = ['FB_28122021.html', 'TSLA_28122021.html']\n",
    "    # This is the path to the file\n",
    "    table_path = f'datasets/{table_name}'\n",
    "    # Open as a python file in read-only mode\n",
    "    table_file = open(table_path, 'r') # table_file is <class '_io.TextIOWrapper'>\n",
    "    # Read the contents of the file into 'html'\n",
    "    html = BeautifulSoup(table_file) #  BeautifulSoup() scrape html of a webpage and save it in a variable html which is not a BeautifulSoup object \n",
    "    # Find 'news-table' in the Soup and load it into 'html_table'\n",
    "    html_table = html.find(id='news-table')\n",
    "    # Add the table to our dictionary\n",
    "    html_tables[table_name] = html_table"
   ]
  },
  {
   "cell_type": "markdown",
   "metadata": {},
   "source": [
    "## 2.1 Exploring TSLA headline table\n",
    "I explored TSLA's headline and extracted its date & time as well as its according headlines. "
   ]
  },
  {
   "cell_type": "code",
   "execution_count": 179,
   "metadata": {},
   "outputs": [
    {
     "name": "stdout",
     "output_type": "stream",
     "text": [
      "File number 1:\n",
      "Dow Jones Futures Rise As Tesla Eyes New Buy Point; 5 Top Stocks To Buy And Watch\n",
      "Dec-28-21 09:13AM  \n",
      "File number 2:\n",
      "3 Stocks That Could Beat the Market in 2022\n",
      "09:00AM  \n",
      "File number 3:\n",
      "Tesla Stock Flashes Buy Signal As Strong Q4 Deliveries Seen\n",
      "08:45AM  \n",
      "File number 4:\n",
      "Why Tesla Stock Is in a Clear Position of Strength Heading Into 2022\n",
      "08:29AM  \n"
     ]
    }
   ],
   "source": [
    "# Read one single day of TSLA headlines \n",
    "tsla = html_tables['TSLA_28122021.html'] \n",
    "# Get all the table rows <tr> in the file into 'tesla_tr'\n",
    "tsla_tr = tsla.findAll('tr') # tsla_tr looks like a list of [<tr></tr>,<tr></tr>,<tr></tr>,...]\n",
    "\n",
    "# For each row in Tesla's headlines table:\n",
    "for i, table_row in enumerate(tsla_tr): # i is class int & table_row is class bs4.element.Tag\n",
    "    # Read the text of the element 'a' into 'link_text'\n",
    "    link_text = table_row.a.get_text() # header\n",
    "    # Read the text of the element <td> into 'data_text'\n",
    "    data_text = table_row.td.get_text()\n",
    "    # Print the count\n",
    "    print(f'File number {i+1}:')\n",
    "    # Print the contents of 'link_text' and 'data_text' \n",
    "    print(link_text) # headline \n",
    "    print(data_text) # date and time of the headline\n",
    "    # The following exits the loop after four rows to prevent spamming the notebook, do not touch\n",
    "    if i == 3:\n",
    "        break"
   ]
  },
  {
   "cell_type": "markdown",
   "metadata": {},
   "source": [
    "## 2.2 Exploring FB headline table\n",
    "I explored FB's headline and extracted its date & time as well as its according headlines."
   ]
  },
  {
   "cell_type": "code",
   "execution_count": 180,
   "metadata": {},
   "outputs": [
    {
     "name": "stdout",
     "output_type": "stream",
     "text": [
      "File number 1:\n",
      "3 Stocks That Could Beat the Market in 2022\n",
      "Dec-28-21 09:00AM  \n",
      "File number 2:\n",
      "The Metaverse Just Got Bigger During the Holidays\n",
      "08:30AM  \n",
      "File number 3:\n",
      "Better Buy: Apple vs. Facebook\n",
      "08:04AM  \n",
      "File number 4:\n",
      "T. Rowe Price U.S. Large-Cap Core Fund, Inc. ...\n",
      "07:38AM  \n"
     ]
    }
   ],
   "source": [
    "# Read one single day of FB headlines \n",
    "fb = html_tables['FB_28122021.html'] \n",
    "# Get all the table rows <tr> in the file into 'fb_tr'\n",
    "fb_tr = fb.findAll('tr') # fb_tr looks like a list of [<tr></tr>,<tr></tr>,<tr></tr>,...]\n",
    "\n",
    "# For each row in fb's headlines table:\n",
    "for i, table_row in enumerate(fb_tr): # i is class int & table_row is class bs4.element.Tag\n",
    "    # Read the text of the element 'a' into 'link_text'\n",
    "    link_text = table_row.a.get_text() # header\n",
    "    # Read the text of the element <td> into 'data_text'\n",
    "    data_text = table_row.td.get_text()\n",
    "    # Print the count\n",
    "    print(f'File number {i+1}:')\n",
    "    # Print the contents of 'link_text' and 'data_text' \n",
    "    print(link_text) # headline \n",
    "    print(data_text) # date and time of the headline\n",
    "    # The following exits the loop after four rows to prevent spamming the notebook, do not touch\n",
    "    if i == 3:\n",
    "        break"
   ]
  },
  {
   "cell_type": "markdown",
   "metadata": {},
   "source": [
    "## 3. Parsing tickers, dates, times, and headlines"
   ]
  },
  {
   "cell_type": "code",
   "execution_count": 181,
   "metadata": {},
   "outputs": [],
   "source": [
    "# Hold the parsed news into a list\n",
    "parsed_news = []\n",
    "# Iterate through the news\n",
    "for file_name, news_table in html_tables.items(): \n",
    "    # Iterate through all tr tags in 'news_table'\n",
    "    for x in news_table.findAll('tr'):\n",
    "        # Read the text from the tr tag into text\n",
    "        text = x.get_text() # get text from <tr> tag where text is class string\n",
    "        # Split the text in the td tag into a list \n",
    "        date_scrape = x.td.text.split() # x.td.text is the text in <tr> tag; date_scrape looks like this ['Jan-04-19', '06:22PM'] or ['01:52PM']  \n",
    "        #If the length of 'date_scrape' is 1, load 'time' with the only element\n",
    "        # If not, load 'date' with the 1st element and 'time' with the second\n",
    "        if len(date_scrape) == 1:\n",
    "            time = date_scrape[0]\n",
    "        else:\n",
    "            date = date_scrape[0]\n",
    "            time = date_scrape[1]\n",
    "\n",
    "        # Extract the ticker from the file name, get the string up to the 1st '_'  \n",
    "        ticker = file_name.split(\"_\")[0] # split file_name by \"_\" so FB_28122021.html becomes ['FB', '28122021.html'] >> ticker = FB \n",
    "        # Append ticker, date, time and headline as a list to the 'parsed_news' list\n",
    "        parsed_news.append([ticker, date, time, x.a.text]) "
   ]
  },
  {
   "cell_type": "markdown",
   "metadata": {},
   "source": [
    "## 4. Making NLTK think like a financial journalist\n",
    "<p>Sentiment analysis is very sensitive to context. As an example, saying <em>\"This is so addictive!\"</em> often means something positive if the context is a video game you are enjoying with your friends, but it very often means something negative when we are talking about opioids. Remember that the reason we chose headlines is so we can try to extract sentiment from financial journalists, who like most professionals, have their own lingo. Therefore, I added some words and according sentiment values to make NLTK think like a financial journalist.</p>"
   ]
  },
  {
   "cell_type": "code",
   "execution_count": 182,
   "metadata": {},
   "outputs": [
    {
     "name": "stderr",
     "output_type": "stream",
     "text": [
      "[nltk_data] Downloading package vader_lexicon to C:\\Users\\Yuting\n",
      "[nltk_data]     Huang\\AppData\\Roaming\\nltk_data...\n",
      "[nltk_data]   Package vader_lexicon is already up-to-date!\n"
     ]
    }
   ],
   "source": [
    "# NLTK VADER for sentiment analysis\n",
    "import nltk\n",
    "nltk.download('vader_lexicon')\n",
    "from nltk.sentiment.vader import SentimentIntensityAnalyzer\n",
    "\n",
    "# New words and values\n",
    "new_words = {\n",
    "    'crushes': 10,\n",
    "    'beats': 5,\n",
    "    'misses': -5,\n",
    "    'trouble': -10,\n",
    "    'falls': -100,\n",
    "}\n",
    "# Instantiate the sentiment intensity analyser with the existing lexicon\n",
    "vader = SentimentIntensityAnalyzer()\n",
    "# Update the lexicon\n",
    "vader.lexicon.update(new_words)\n"
   ]
  },
  {
   "cell_type": "markdown",
   "metadata": {},
   "source": [
    "## 5. Obtaining polarity scores for every headline from TSLA & FB\n",
    "Now that I had the data and the algorithm loaded, I used vader.polarity_scores to predict sentiment out of news headlines from TSLA & FB."
   ]
  },
  {
   "cell_type": "code",
   "execution_count": 183,
   "metadata": {},
   "outputs": [],
   "source": [
    "import pandas as pd\n",
    "# Use these column names\n",
    "columns = ['ticker', 'date', 'time', 'headline']\n",
    "# Convert the list of lists into a DataFrame\n",
    "scored_news = pd.DataFrame(parsed_news, columns=columns) # columns parameter sets the column names of the dataaframe\n",
    "# Iterate through the headlines and get the polarity scores of each headline\n",
    "headlines = [headline for headline in scored_news.headline] # each headline is a string\n",
    "scores = [vader.polarity_scores(headline) for headline in scored_news.headline] # each headline has one polarity score\n",
    "# Convert the list of dicts into a DataFrame\n",
    "scores_df = pd.DataFrame(scores) # score_df has 4 columns with column names 'neg', 'neu', 'pos' ,'compound' \n",
    "scored_news.columns = columns # set up column names for scores_df \n",
    "# Join the scored_news and scores_df \n",
    "scored_news = scored_news.join(scores_df)\n",
    "# Convert the date column from string to a date\n",
    "scored_news['date'] = pd.to_datetime(scored_news.date).dt.date"
   ]
  },
  {
   "cell_type": "markdown",
   "metadata": {},
   "source": [
    "## 6. Plotting all the sentiment in subplots\n",
    "The below plot shows that TSLA's sentiment on 22-12-2021 was relatively positive, which may be attributed to verbatim. Therefore, I performed some operations to remove duplicates. It is also worth noticing that FB's compound rate is extremely positive on 25-12-2021, which may be due to the small number of FB news released on that day."
   ]
  },
  {
   "cell_type": "code",
   "execution_count": 184,
   "metadata": {},
   "outputs": [
    {
     "name": "stdout",
     "output_type": "stream",
     "text": [
      "ticker            FB      TSLA\n",
      "date                          \n",
      "2021-12-21  0.147319       NaN\n",
      "2021-12-22  0.063300  0.258027\n",
      "2021-12-23  0.102669  0.155025\n",
      "2021-12-24 -0.108311 -0.069950\n",
      "2021-12-25  0.510600  0.000000\n",
      "2021-12-26  0.077420 -0.067033\n",
      "2021-12-27  0.157687  0.109554\n",
      "2021-12-28  0.263440  0.180831\n"
     ]
    },
    {
     "data": {
      "image/png": "[encoded data removed]",
      "text/plain": [
       "<Figure size 720x432 with 1 Axes>"
      ]
     },
     "metadata": {
      "needs_background": "light"
     },
     "output_type": "display_data"
    }
   ],
   "source": [
    "import matplotlib.pyplot as plt\n",
    "plt.style.use(\"fivethirtyeight\") # a graph with certain characteristics\n",
    "# By using the 'inline' backend, the matplotlib graphs would be included in the notebook, next to the code\n",
    "%matplotlib inline \n",
    "# Group by date and ticker columns from scored_news and calculate the mean\n",
    "mean_c = scored_news.groupby(['date', 'ticker']).mean()\n",
    "# Unstack the column ticker\n",
    "mean_unstacked = mean_c.unstack('ticker')\n",
    "# Get the cross-section of compound in the 'columns' axis\n",
    "mean_compound = mean_unstacked.xs(\"compound\", axis=\"columns\") # mean_compound is a dataframe\n",
    "print(mean_compound)\n",
    "# Plot a bar chart with pandas\n",
    "mean_compound.plot.bar(figsize = (10, 6));"
   ]
  },
  {
   "cell_type": "markdown",
   "metadata": {},
   "source": [
    "## 7. Removing duplicate headlines\n",
    "I removed 4 duplicate headlines and conducted sentiment analysis again and found a slight change in sentiment for FB on 26-12-2021. The compound rate changed from positive to negative after duplicate headlines were removed. "
   ]
  },
  {
   "cell_type": "code",
   "execution_count": 185,
   "metadata": {},
   "outputs": [
    {
     "data": {
      "image/png": "[encoded data removed]",
      "text/plain": [
       "<Figure size 720x432 with 1 Axes>"
      ]
     },
     "metadata": {
      "needs_background": "light"
     },
     "output_type": "display_data"
    }
   ],
   "source": [
    "# Count the number of headlines in scored_news (store as integer)\n",
    "num_news_before = scored_news.headline.count()\n",
    "# Drop duplicates based on ticker and headline\n",
    "scored_news_clean = scored_news.drop_duplicates(subset=['headline', 'ticker']) # Only consider 'headline' & 'ticker' columns for identifying duplicates\n",
    "# Count number of headlines after dropping duplicates (store as integer)\n",
    "num_news_after = scored_news_clean.headline.count()\n",
    "# Print before and after numbers to get an idea of how we did \n",
    "f\"Before we had {num_news_before} headlines, now we have {num_news_after}\"\n",
    "# Conduct sentiment analysis again with the cleaned headelines\n",
    "plt.style.use(\"fivethirtyeight\") # a graph with certain characteristics\n",
    "# By using the 'inline' backend, the matplotlib graphs would be included in the notebook, next to the code\n",
    "%matplotlib inline \n",
    "# Group by date and ticker columns from scored_news and calculate the mean\n",
    "mean_cleaned = scored_news_clean.groupby(['date', 'ticker']).mean()\n",
    "# Unstack the column ticker\n",
    "mean_cleaned = mean_cleaned.unstack('ticker')\n",
    "# Get the cross-section of compound in the 'columns' axis\n",
    "mean_cleaned = mean_cleaned.xs(\"compound\", axis=\"columns\") # mean_compound is a dataframe\n",
    "# Plot a bar chart with pandas\n",
    "mean_cleaned.plot.bar(figsize = (10, 6));"
   ]
  },
  {
   "cell_type": "markdown",
   "metadata": {},
   "source": [
    "## 8.1 Sentiment on one single trading day on TSLA\n",
    "Sentiment analysis on TSLA on 28-12-2021 was conducted below. "
   ]
  },
  {
   "cell_type": "code",
   "execution_count": 186,
   "metadata": {},
   "outputs": [
    {
     "name": "stdout",
     "output_type": "stream",
     "text": [
      "                                                   headline    neg    neu  \\\n",
      "time                                                                        \n",
      "00:59:00  Tesla, Apple, Boeing, Fauci, Flights And More ...  0.000  0.839   \n",
      "01:18:00  Tesla Stock Gains As Wedbush Says China Demand...  0.084  0.782   \n",
      "01:48:00        Tesla Gains as Wedbush Sees Stock at $1,400  0.000  0.745   \n",
      "02:11:00  15 E-Mobility Stocks That Could Become The New...  0.000  1.000   \n",
      "03:21:00                          Tesla Has One Big Problem  0.403  0.597   \n",
      "04:33:00  China Says It Complained to UN About Musks Spa...  0.231  0.769   \n",
      "06:55:00  Tesla Could Rise 30% Next Year on China Demand...  0.130  0.870   \n",
      "07:13:00  Tesla in a Clear Position of Strength Heading ...  0.000  0.707   \n",
      "07:20:00  Dow Jones Futures Rally: Tesla Hits New Buy Po...  0.000  0.886   \n",
      "08:29:00  Why Tesla Stock Is in a Clear Position of Stre...  0.000  0.633   \n",
      "08:45:00  Tesla Stock Flashes Buy Signal As Strong Q4 De...  0.000  0.732   \n",
      "09:00:00        3 Stocks That Could Beat the Market in 2022  0.000  1.000   \n",
      "09:13:00  Dow Jones Futures Rise As Tesla Eyes New Buy P...  0.000  0.893   \n",
      "\n",
      "            pos  compound  \n",
      "time                       \n",
      "00:59:00  0.161    0.4005  \n",
      "01:18:00  0.134    0.2263  \n",
      "01:48:00  0.255    0.3400  \n",
      "02:11:00  0.000    0.0000  \n",
      "03:21:00  0.000   -0.4019  \n",
      "04:33:00  0.000   -0.4019  \n",
      "06:55:00  0.000   -0.1280  \n",
      "07:13:00  0.293    0.7003  \n",
      "07:20:00  0.114    0.2023  \n",
      "08:29:00  0.367    0.7003  \n",
      "08:45:00  0.268    0.5106  \n",
      "09:00:00  0.000    0.0000  \n",
      "09:13:00  0.107    0.2023  \n"
     ]
    }
   ],
   "source": [
    "# Set the index to ticker and date\n",
    "single_day = scored_news_clean.set_index(['ticker', 'date'])\n",
    "# Cross-section the TSLA row\n",
    "single_day_tsla = single_day.xs('TSLA')\n",
    "# Select the 28th of December of 2021\n",
    "single_day_tsla = single_day_tsla.loc['2021-12-28']\n",
    "# Convert the datetime string to just the time\n",
    "single_day_tsla['time'] = pd.to_datetime(single_day_tsla['time']).dt.time\n",
    "# Set the index to time and sort by it\n",
    "single_day_tsla = single_day_tsla.set_index('time')\n",
    "# Sort it\n",
    "single_day_tsla = single_day_tsla.sort_index()\n",
    "print(single_day_tsla)"
   ]
  },
  {
   "cell_type": "markdown",
   "metadata": {},
   "source": [
    "## 8.2 Sentiment on one single trading day on FB\n",
    "Sentiment analysis on FB on 28-12-2021 was conducted below. "
   ]
  },
  {
   "cell_type": "code",
   "execution_count": 187,
   "metadata": {},
   "outputs": [
    {
     "name": "stdout",
     "output_type": "stream",
     "text": [
      "                                                   headline  neg    neu  \\\n",
      "time                                                                      \n",
      "00:11:00  Meta Gains as KeyBanc Sees Holidays Boosting O...  0.0  0.486   \n",
      "02:38:00  Ershares Entrepreneurs Etf Buys Oracle Corp, R...  0.0  1.000   \n",
      "05:52:00  How You Can Make More Money on the Metaverse T...  0.0  1.000   \n",
      "06:35:00      3 Things About Wish That Smart Investors Know  0.0  0.481   \n",
      "06:55:00  Facebook stock could get a big boost from surg...  0.0  0.787   \n",
      "07:07:00             Could Bumble Become the Next Facebook?  0.0  1.000   \n",
      "07:38:00   T. Rowe Price U.S. Large-Cap Core Fund, Inc. ...  0.0  1.000   \n",
      "08:04:00                     Better Buy: Apple vs. Facebook  0.0  0.580   \n",
      "08:30:00  The Metaverse Just Got Bigger During the Holidays  0.0  0.729   \n",
      "09:00:00        3 Stocks That Could Beat the Market in 2022  0.0  1.000   \n",
      "\n",
      "            pos  compound  \n",
      "time                       \n",
      "00:11:00  0.514    0.7506  \n",
      "02:38:00  0.000    0.0000  \n",
      "05:52:00  0.000    0.0000  \n",
      "06:35:00  0.519    0.6597  \n",
      "06:55:00  0.213    0.4019  \n",
      "07:07:00  0.000    0.0000  \n",
      "07:38:00  0.000    0.0000  \n",
      "08:04:00  0.420    0.4404  \n",
      "08:30:00  0.271    0.3818  \n",
      "09:00:00  0.000    0.0000  \n"
     ]
    }
   ],
   "source": [
    "# Set the index to ticker and date\n",
    "single_day = scored_news_clean.set_index(['ticker', 'date'])\n",
    "# Cross-section the FB row\n",
    "single_day_fb = single_day.xs('FB')\n",
    "# Select the 28th of December of 2021\n",
    "single_day_fb = single_day_fb.loc['2021-12-28']\n",
    "# Convert the datetime string to just the time\n",
    "single_day_fb['time'] = pd.to_datetime(single_day_fb['time']).dt.time\n",
    "# Set the index to time and sort by it\n",
    "single_day_fb = single_day_fb.set_index('time')\n",
    "# Sort it\n",
    "single_day_fb = single_day_fb.sort_index()\n",
    "print(single_day_fb)"
   ]
  },
  {
   "cell_type": "markdown",
   "metadata": {},
   "source": [
    "## 9.1 Visualising the single day sentiment on TSLA\n",
    "I then created a plot to visualise the positive, negative and neutral scores for a single day ie. 28-12-2021 of trading TSLA stock."
   ]
  },
  {
   "cell_type": "code",
   "execution_count": 188,
   "metadata": {},
   "outputs": [
    {
     "data": {
      "image/png": "[encoded data removed]",
      "text/plain": [
       "<Figure size 720x432 with 1 Axes>"
      ]
     },
     "metadata": {
      "needs_background": "light"
     },
     "output_type": "display_data"
    }
   ],
   "source": [
    "TITLE = \"Negative, neutral, and positive sentiment for TSLA on 28-12-2021\"\n",
    "COLORS = [\"red\",\"orange\", \"green\"]\n",
    "# single day is a dataframe\n",
    "# Drop the columns that aren't useful for the plot; 1 here refers to columns dropped \n",
    "plot_day_tsla = single_day_tsla.drop(['compound', 'headline'], 1) \n",
    "# Change the column names to 'negative', 'positive', and 'neutral'\n",
    "plot_day_tsla.columns = ['negative', 'neutral', 'positive'] # original column names are 'neg','neu','pos'\n",
    "# Plot a stacked bar chart\n",
    "plot_day_tsla.plot.bar(stacked = True, figsize=(10, 6), title = TITLE, color = COLORS).legend(bbox_to_anchor=(1.2, 0.5))\n",
    "plt.ylabel(\"scores\");"
   ]
  },
  {
   "cell_type": "markdown",
   "metadata": {},
   "source": [
    "## 9.2 Visualising the single day sentiment on FB\n",
    "I then created a plot to visualise the positive, negative and neutral scores for a single day ie. 28-12-2021 of trading FB stock."
   ]
  },
  {
   "cell_type": "code",
   "execution_count": 189,
   "metadata": {},
   "outputs": [
    {
     "data": {
      "image/png": "[encoded data removed]",
      "text/plain": [
       "<Figure size 720x432 with 1 Axes>"
      ]
     },
     "metadata": {
      "needs_background": "light"
     },
     "output_type": "display_data"
    }
   ],
   "source": [
    "TITLE = \"Negative, neutral, and positive sentiment for FB on 28-12-2021\"\n",
    "COLORS = [\"red\",\"orange\", \"green\"]\n",
    "# single day is a dataframe\n",
    "# Drop the columns that aren't useful for the plot; 1 here refers to columns dropped \n",
    "plot_day_fb = single_day_fb.drop(['compound', 'headline'], 1) \n",
    "# Change the column names to 'negative', 'positive', and 'neutral'\n",
    "plot_day_fb.columns = ['negative', 'neutral', 'positive'] # original column names are 'neg','neu','pos'\n",
    "# Plot a stacked bar chart\n",
    "plot_day_fb.plot.bar(stacked = True, figsize=(10, 6), title = TITLE, color = COLORS).legend(bbox_to_anchor=(1.2, 0.5))\n",
    "plt.ylabel(\"scores\");"
   ]
  }
 ],
 "metadata": {
  "kernelspec": {
   "display_name": "Python 3",
   "language": "python",
   "name": "python3"
  },
  "language_info": {
   "codemirror_mode": {
    "name": "ipython",
    "version": 3
   },
   "file_extension": ".py",
   "mimetype": "text/x-python",
   "name": "python",
   "nbconvert_exporter": "python",
   "pygments_lexer": "ipython3",
   "version": "3.8.5"
  }
 },
 "nbformat": 4,
 "nbformat_minor": 4
}
